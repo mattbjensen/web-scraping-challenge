{
 "cells": [
  {
   "cell_type": "markdown",
   "id": "legitimate-burke",
   "metadata": {},
   "source": [
    "pip install Flask-PyMongo"
   ]
  },
  {
   "cell_type": "markdown",
   "id": "interim-bones",
   "metadata": {},
   "source": [
    "import time\n",
    "\n",
    "from selenium import webdriver\n",
    "\n",
    "\n",
    "\n",
    "driver = webdriver.Chrome()  # Optional argument, if not specified will search path.\n",
    "\n",
    "driver.get('http://www.google.com/');\n",
    "\n",
    "time.sleep(5) # Let the user actually see something!\n",
    "\n",
    "search_box = driver.find_element_by_name('q')\n",
    "\n",
    "search_box.send_keys('ChromeDriver')\n",
    "\n",
    "search_box.submit()\n",
    "\n",
    "time.sleep(5) # Let the user actually see something!\n",
    "\n",
    "driver.quit()"
   ]
  },
  {
   "cell_type": "code",
   "execution_count": 1,
   "id": "advanced-place",
   "metadata": {},
   "outputs": [
    {
     "name": "stdout",
     "output_type": "stream",
     "text": [
      "/c/Users/mjensen/Anaconda3/envs/PythonData/chromedriver\n"
     ]
    }
   ],
   "source": [
    "! which chromedriver"
   ]
  },
  {
   "cell_type": "code",
   "execution_count": 2,
   "id": "ranking-reviewer",
   "metadata": {},
   "outputs": [],
   "source": [
    "# Import dependencies\n",
    "from splinter import Browser\n",
    "from bs4 import BeautifulSoup as bs\n",
    "import pandas as pd\n",
    "import requests\n",
    "import pymongo\n",
    "from flask import Flask, render_template, redirect\n",
    "from flask_pymongo import PyMongo"
   ]
  },
  {
   "cell_type": "code",
   "execution_count": 3,
   "id": "headed-connection",
   "metadata": {},
   "outputs": [],
   "source": [
    "executable_path = {'executable_path': 'chromedriver.exe'}\n",
    "browser = Browser('chrome', **executable_path, headless=False)"
   ]
  },
  {
   "cell_type": "markdown",
   "id": "foster-distributor",
   "metadata": {},
   "source": [
    "### NASA Mars News"
   ]
  },
  {
   "cell_type": "code",
   "execution_count": 4,
   "id": "communist-mercury",
   "metadata": {},
   "outputs": [],
   "source": [
    "# URL for NASA news page to be scraped\n",
    "news_url = 'https://redplanetscience.com/'\n",
    "browser.visit( news_url)\n",
    "\n",
    "# Create HTML object\n",
    "html = browser.html\n",
    "\n",
    "# Parse HTML with BeautifulSoup\n",
    "soup = bs( html, 'html.parser')"
   ]
  },
  {
   "cell_type": "code",
   "execution_count": 9,
   "id": "dressed-print",
   "metadata": {},
   "outputs": [
    {
     "name": "stdout",
     "output_type": "stream",
     "text": [
      "All About the Laser (and Microphone) Atop Mars 2020, NASA's Next Rover\n",
      "-------------------\n",
      "SuperCam is a rock-vaporizing instrument that will help scientists hunt for Mars fossils.\n"
     ]
    }
   ],
   "source": [
    "# Retrieve the latest news title\n",
    "title = soup.find_all( 'div', class_ = 'content_title')[0].text\n",
    "\n",
    "# Retrieve the latest news paragraph\n",
    "paragraph = soup.find_all( 'div', class_ = 'article_teaser_body')[0].text\n",
    "print( title)\n",
    "print( '-------------------')\n",
    "print( paragraph)"
   ]
  },
  {
   "cell_type": "markdown",
   "id": "indoor-vienna",
   "metadata": {},
   "source": [
    "### JPL Mars Space Images - Featured Image"
   ]
  },
  {
   "cell_type": "code",
   "execution_count": null,
   "id": "daily-imagination",
   "metadata": {},
   "outputs": [],
   "source": [
    "# URL for JPL Featured Image\n",
    "featured_image_url = \"https://spaceimages-mars.com/\"\n",
    "browser.visit( featured_image_url)\n",
    "\n",
    "# Create HTML object\n",
    "html = browser.html\n",
    "\n",
    "# Parse HTML with BeautifulSoup\n",
    "soup = bs( html, 'html.parser')"
   ]
  }
 ],
 "metadata": {
  "kernelspec": {
   "display_name": "Python [conda env:PythonData] *",
   "language": "python",
   "name": "conda-env-PythonData-py"
  },
  "language_info": {
   "codemirror_mode": {
    "name": "ipython",
    "version": 3
   },
   "file_extension": ".py",
   "mimetype": "text/x-python",
   "name": "python",
   "nbconvert_exporter": "python",
   "pygments_lexer": "ipython3",
   "version": "3.6.10"
  }
 },
 "nbformat": 4,
 "nbformat_minor": 5
}
